{
 "cells": [
  {
   "cell_type": "code",
   "execution_count": 4,
   "id": "ee47cfbe",
   "metadata": {},
   "outputs": [
    {
     "ename": "NameError",
     "evalue": "name 'beatles_1' is not defined",
     "output_type": "error",
     "traceback": [
      "\u001b[0;31m---------------------------------------------------------------------------\u001b[0m",
      "\u001b[0;31mNameError\u001b[0m                                 Traceback (most recent call last)",
      "Input \u001b[0;32mIn [4]\u001b[0m, in \u001b[0;36m<cell line: 10>\u001b[0;34m()\u001b[0m\n\u001b[1;32m      6\u001b[0m num_fans \u001b[38;5;241m=\u001b[39m [\u001b[38;5;241m9000\u001b[39m,\u001b[38;5;241m2400\u001b[39m,\u001b[38;5;241m2000\u001b[39m,\u001b[38;5;241m1600\u001b[39m,\u001b[38;5;241m6\u001b[39m]\n\u001b[1;32m      8\u001b[0m pd\u001b[38;5;241m.\u001b[39mDataFrame([names, instruments,tenure,num_fans])\n\u001b[0;32m---> 10\u001b[0m transposed \u001b[38;5;241m=\u001b[39m \u001b[43mbeatles_1\u001b[49m\u001b[38;5;241m.\u001b[39mT\n\u001b[1;32m     11\u001b[0m display(transposed)\n",
      "\u001b[0;31mNameError\u001b[0m: name 'beatles_1' is not defined"
     ]
    }
   ],
   "source": [
    "import pandas as pd\n",
    "\n",
    "names = [\"John Lenon\",\"Paul McCartney\",\"George Harrison\",\"Ringo Starr\",\"Gonçalo Jardim\"]\n",
    "instruments = [\"Vocals\",\"Bass\",\"Bass\",\"Drums\",\"Triangle\"]\n",
    "tenure = [9,12,12,8,1]\n",
    "num_fans = [9000,2400,2000,1600,6]\n",
    "\n",
    "pd.DataFrame([names, instruments,tenure,num_fans])\n",
    "\n",
    "transposed = beatles_1.T\n",
    "display(transposed)"
   ]
  },
  {
   "cell_type": "code",
   "execution_count": null,
   "id": "7922aad3",
   "metadata": {},
   "outputs": [],
   "source": []
  }
 ],
 "metadata": {
  "kernelspec": {
   "display_name": "Python 3 (ipykernel)",
   "language": "python",
   "name": "python3"
  },
  "language_info": {
   "codemirror_mode": {
    "name": "ipython",
    "version": 3
   },
   "file_extension": ".py",
   "mimetype": "text/x-python",
   "name": "python",
   "nbconvert_exporter": "python",
   "pygments_lexer": "ipython3",
   "version": "3.9.12"
  }
 },
 "nbformat": 4,
 "nbformat_minor": 5
}
